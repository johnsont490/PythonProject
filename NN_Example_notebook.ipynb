{
 "cells": [
  {
   "cell_type": "markdown",
   "id": "650ef450",
   "metadata": {},
   "source": [
    "Import the relevant modules needed for predicting hardness from the Pugh and Cheenady neural networks- these include \"makehardness prediction\" and \"pathlib\", which is used to define the file path for the input data.Input the path of your materials data below as the \"input data\" variable. Then, input either \"cheenady\" or \"pugh\" as the \"modeltype\". If you want to predict hardness from bulk and shear modulus data, choose the pugh model, and as the input data, submit a an xlsx sheet with the first column as bulk modulus, and the second as shear modulus, with data for only one material. If you instead want to predict hardness from atomistic data, use the Cheenady model instead, submitting an xlsx sheet with features data in the same order as the \"brgoch_feats\" column from the training data for the Cheenady neural network.Finally, input these variables as the arguments for the \"makehardnessprediction\" function. An example of a prediction found using the Cheenady model neural network is shown below, with the prediction at the bottom. "
   ]
  },
  {
   "cell_type": "code",
   "execution_count": 5,
   "id": "7579ed94",
   "metadata": {},
   "outputs": [
    {
     "name": "stdout",
     "output_type": "stream",
     "text": [
      "Predicted=[7.295676]\n"
     ]
    }
   ],
   "source": [
    "#import relevant modules \n",
    "from pathlib import Path\n",
    "from makehardnessprediction import makehardnessprediction\n",
    "\n",
    "#add input data and define model type \n",
    "inputdata=Path.cwd() / \"data\" / \"cheenadyexample.xlsx\"\n",
    "modeltype=\"cheenady\"\n",
    "\n",
    "#call makehardnessprediction module to predict based on user input data\n",
    "makehardnessprediction(modeltype,inputdata) "
   ]
  },
  {
   "cell_type": "markdown",
   "id": "0cda6a79",
   "metadata": {},
   "source": [
    "An example of a prediction found using the pugh model neural network is shown below. Since the models have already been trained, the prediction is the only output. "
   ]
  },
  {
   "cell_type": "code",
   "execution_count": 4,
   "id": "613891da",
   "metadata": {},
   "outputs": [
    {
     "name": "stdout",
     "output_type": "stream",
     "text": [
      "Predicted=[5.899266]\n"
     ]
    }
   ],
   "source": [
    "inputdata=Path.cwd() / \"data\" / \"exampledataforpugh.xlsx\"\n",
    "modeltype=\"pugh\"\n",
    "\n",
    "makehardnessprediction(modeltype,inputdata) "
   ]
  }
 ],
 "metadata": {
  "kernelspec": {
   "display_name": "Python 3 (ipykernel)",
   "language": "python",
   "name": "python3"
  },
  "language_info": {
   "codemirror_mode": {
    "name": "ipython",
    "version": 3
   },
   "file_extension": ".py",
   "mimetype": "text/x-python",
   "name": "python",
   "nbconvert_exporter": "python",
   "pygments_lexer": "ipython3",
   "version": "3.9.13"
  }
 },
 "nbformat": 4,
 "nbformat_minor": 5
}
