{
 "cells": [
  {
   "cell_type": "markdown",
   "id": "650ef450",
   "metadata": {},
   "source": [
    "Import the relevant modules needed for predicting hardness from the Pugh and Cheenady neural networks- these include \"makehardness prediction\" and \"pathlib\", which is used to define the file path for the input data.Input the path of your materials data below as the \"input data\" variable. Then, input either \"cheenady\" or \"pugh\" as the \"modeltype\". If you want to predict hardness from bulk and shear modulus data, choose the pugh model, and as the input data, submit a an xlsx sheet with the first column as bulk modulus, and the second as shear modulus, with data for only one material. If you instead want to predict hardness from atomistic data, use the Cheenady model instead, submitting an xlsx sheet with features data in the same order as the \"brgoch_feats\" column from the training data for the Cheenady neural network.Finally, input these variables as the arguments for the \"makehardnessprediction\" function. An example of a prediction found using the Cheenady model neural network is shown below, with the prediction at the bottom. "
   ]
  },
  {
   "cell_type": "code",
   "execution_count": 1,
   "id": "7579ed94",
   "metadata": {},
   "outputs": [
    {
     "ename": "ModuleNotFoundError",
     "evalue": "No module named 'tensorflow'",
     "output_type": "error",
     "traceback": [
      "\u001b[1;31m---------------------------------------------------------------------------\u001b[0m",
      "\u001b[1;31mModuleNotFoundError\u001b[0m                       Traceback (most recent call last)",
      "Input \u001b[1;32mIn [1]\u001b[0m, in \u001b[0;36m<cell line: 3>\u001b[1;34m()\u001b[0m\n\u001b[0;32m      1\u001b[0m \u001b[38;5;66;03m#import relevant modules \u001b[39;00m\n\u001b[0;32m      2\u001b[0m \u001b[38;5;28;01mfrom\u001b[39;00m \u001b[38;5;21;01mpathlib\u001b[39;00m \u001b[38;5;28;01mimport\u001b[39;00m Path\n\u001b[1;32m----> 3\u001b[0m \u001b[38;5;28;01mfrom\u001b[39;00m \u001b[38;5;21;01mmakehardnessprediction\u001b[39;00m \u001b[38;5;28;01mimport\u001b[39;00m makehardnessprediction\n\u001b[0;32m      5\u001b[0m \u001b[38;5;66;03m#add input data and define model type \u001b[39;00m\n\u001b[0;32m      6\u001b[0m inputdata\u001b[38;5;241m=\u001b[39mPath\u001b[38;5;241m.\u001b[39mcwd() \u001b[38;5;241m/\u001b[39m \u001b[38;5;124m\"\u001b[39m\u001b[38;5;124mdata\u001b[39m\u001b[38;5;124m\"\u001b[39m \u001b[38;5;241m/\u001b[39m \u001b[38;5;124m\"\u001b[39m\u001b[38;5;124mcheenadyexample.xlsx\u001b[39m\u001b[38;5;124m\"\u001b[39m\n",
      "File \u001b[1;32m~\\OneDrive\\Documents\\Python\\PythonProject\\PythonProject\\makehardnessprediction.py:5\u001b[0m, in \u001b[0;36m<module>\u001b[1;34m\u001b[0m\n\u001b[0;32m      1\u001b[0m \u001b[38;5;66;03m# Taylor Johnson\u001b[39;00m\n\u001b[0;32m      2\u001b[0m \u001b[38;5;66;03m# module for prediction hardness from neural network models \u001b[39;00m\n\u001b[0;32m      3\u001b[0m  \n\u001b[0;32m      4\u001b[0m \u001b[38;5;66;03m#load the neural network modules \u001b[39;00m\n\u001b[1;32m----> 5\u001b[0m \u001b[38;5;28;01mfrom\u001b[39;00m \u001b[38;5;21;01mCheenadyNNupd\u001b[39;00m \u001b[38;5;28;01mimport\u001b[39;00m predictCheenadyhardness\n\u001b[0;32m      6\u001b[0m \u001b[38;5;28;01mfrom\u001b[39;00m \u001b[38;5;21;01mPughNNupd\u001b[39;00m \u001b[38;5;28;01mimport\u001b[39;00m predictPughhardness\n\u001b[0;32m      8\u001b[0m \u001b[38;5;66;03m#function to predict hardness from a given model and xlsx file containing material data \u001b[39;00m\n",
      "File \u001b[1;32m~\\OneDrive\\Documents\\Python\\PythonProject\\PythonProject\\CheenadyNNupd.py:10\u001b[0m, in \u001b[0;36m<module>\u001b[1;34m\u001b[0m\n\u001b[0;32m      8\u001b[0m \u001b[38;5;28;01mfrom\u001b[39;00m \u001b[38;5;21;01msklearn\u001b[39;00m\u001b[38;5;21;01m.\u001b[39;00m\u001b[38;5;21;01mmodel_selection\u001b[39;00m \u001b[38;5;28;01mimport\u001b[39;00m train_test_split\n\u001b[0;32m      9\u001b[0m \u001b[38;5;28;01mfrom\u001b[39;00m \u001b[38;5;21;01msklearn\u001b[39;00m\u001b[38;5;21;01m.\u001b[39;00m\u001b[38;5;21;01mpreprocessing\u001b[39;00m \u001b[38;5;28;01mimport\u001b[39;00m MinMaxScaler\n\u001b[1;32m---> 10\u001b[0m \u001b[38;5;28;01mfrom\u001b[39;00m \u001b[38;5;21;01mtensorflow\u001b[39;00m\u001b[38;5;21;01m.\u001b[39;00m\u001b[38;5;21;01mpython\u001b[39;00m\u001b[38;5;21;01m.\u001b[39;00m\u001b[38;5;21;01mkeras\u001b[39;00m\u001b[38;5;21;01m.\u001b[39;00m\u001b[38;5;21;01mmodels\u001b[39;00m \u001b[38;5;28;01mimport\u001b[39;00m Sequential\n\u001b[0;32m     11\u001b[0m \u001b[38;5;28;01mfrom\u001b[39;00m \u001b[38;5;21;01mtensorflow\u001b[39;00m\u001b[38;5;21;01m.\u001b[39;00m\u001b[38;5;21;01mpython\u001b[39;00m\u001b[38;5;21;01m.\u001b[39;00m\u001b[38;5;21;01mkeras\u001b[39;00m\u001b[38;5;21;01m.\u001b[39;00m\u001b[38;5;21;01mlayers\u001b[39;00m \u001b[38;5;28;01mimport\u001b[39;00m Dense\n\u001b[0;32m     12\u001b[0m \u001b[38;5;28;01mfrom\u001b[39;00m \u001b[38;5;21;01mkeras\u001b[39;00m \u001b[38;5;28;01mimport\u001b[39;00m layers\n",
      "\u001b[1;31mModuleNotFoundError\u001b[0m: No module named 'tensorflow'"
     ]
    }
   ],
   "source": [
    "#import relevant modules \n",
    "from pathlib import Path\n",
    "from makehardnessprediction import makehardnessprediction\n",
    "\n",
    "#add input data and define model type \n",
    "inputdata=Path.cwd() / \"data\" / \"cheenadyexample.xlsx\"\n",
    "modeltype=\"cheenady\"\n",
    "\n",
    "#call makehardnessprediction module to predict based on user input data\n",
    "makehardnessprediction(modeltype,inputdata) "
   ]
  },
  {
   "cell_type": "markdown",
   "id": "0cda6a79",
   "metadata": {},
   "source": [
    "An example of a prediction found using the pugh model neural network is shown below. Since the models have already been trained, the prediction is the only output. "
   ]
  },
  {
   "cell_type": "code",
   "execution_count": 4,
   "id": "613891da",
   "metadata": {},
   "outputs": [
    {
     "name": "stdout",
     "output_type": "stream",
     "text": [
      "Predicted=[5.899266]\n"
     ]
    }
   ],
   "source": [
    "inputdata=Path.cwd() / \"data\" / \"exampledataforpugh.xlsx\"\n",
    "modeltype=\"pugh\"\n",
    "\n",
    "makehardnessprediction(modeltype,inputdata) "
   ]
  }
 ],
 "metadata": {
  "kernelspec": {
   "display_name": "Python 3 (ipykernel)",
   "language": "python",
   "name": "python3"
  },
  "language_info": {
   "codemirror_mode": {
    "name": "ipython",
    "version": 3
   },
   "file_extension": ".py",
   "mimetype": "text/x-python",
   "name": "python",
   "nbconvert_exporter": "python",
   "pygments_lexer": "ipython3",
   "version": "3.9.12"
  }
 },
 "nbformat": 4,
 "nbformat_minor": 5
}
