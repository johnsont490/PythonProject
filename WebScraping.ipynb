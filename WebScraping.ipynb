{
 "cells": [
  {
   "cell_type": "code",
   "execution_count": 1,
   "id": "d0aa6920-d49c-401b-819d-1884d75c3b6e",
   "metadata": {},
   "outputs": [
    {
     "name": "stdout",
     "output_type": "stream",
     "text": [
      "['grid-table']\n",
      "['tbl-border-none', 'margin-bot-1p25']\n",
      "['grid-table']\n",
      "['grid-table', 'margin-bot-1p25']\n"
     ]
    },
    {
     "data": {
      "text/plain": [
       "<table class=\"grid-table margin-bot-1p25\" id=\"gridDBMat\"></table>"
      ]
     },
     "execution_count": 1,
     "metadata": {},
     "output_type": "execute_result"
    }
   ],
   "source": [
    "import requests\n",
    "from bs4 import BeautifulSoup as bs\n",
    "import pandas as pd\n",
    "\n",
    "web = requests.get(\"https://mechanicalc.com/calculators/materials/\")\n",
    "\n",
    "soup = bs(web.content, \"html.parser\")\n",
    "\n",
    "for table in soup.find_all('table'):\n",
    "   print(table.get('class'))\n",
    "    \n",
    "table = soup.find('table', class_='grid-table margin-bot-1p25')\n",
    "table"
   ]
  },
  {
   "cell_type": "code",
   "execution_count": 4,
   "id": "6532b276-2f1a-4e43-8acc-b65382ce70a8",
   "metadata": {},
   "outputs": [],
   "source": [
    "tableHead = table.find(\"thead\")\n",
    "tableHead"
   ]
  },
  {
   "cell_type": "code",
   "execution_count": 3,
   "id": "839b3bc2-34aa-48c5-8891-1385845299d3",
   "metadata": {},
   "outputs": [
    {
     "ename": "AttributeError",
     "evalue": "'NoneType' object has no attribute 'find_all'",
     "output_type": "error",
     "traceback": [
      "\u001b[0;31m---------------------------------------------------------------------------\u001b[0m",
      "\u001b[0;31mAttributeError\u001b[0m                            Traceback (most recent call last)",
      "Cell \u001b[0;32mIn [3], line 2\u001b[0m\n\u001b[1;32m      1\u001b[0m row_headers \u001b[38;5;241m=\u001b[39m []\n\u001b[0;32m----> 2\u001b[0m \u001b[38;5;28;01mfor\u001b[39;00m x \u001b[38;5;129;01min\u001b[39;00m \u001b[43mtableHead\u001b[49m\u001b[38;5;241;43m.\u001b[39;49m\u001b[43mfind_all\u001b[49m(\u001b[38;5;124m\"\u001b[39m\u001b[38;5;124mtr\u001b[39m\u001b[38;5;124m\"\u001b[39m):\n\u001b[1;32m      3\u001b[0m     \u001b[38;5;28;01mfor\u001b[39;00m y \u001b[38;5;129;01min\u001b[39;00m x\u001b[38;5;241m.\u001b[39mfind_all(\u001b[38;5;124m\"\u001b[39m\u001b[38;5;124mth\u001b[39m\u001b[38;5;124m\"\u001b[39m):\n\u001b[1;32m      4\u001b[0m         row_headers\u001b[38;5;241m.\u001b[39mappend(y\u001b[38;5;241m.\u001b[39mtext)\n",
      "\u001b[0;31mAttributeError\u001b[0m: 'NoneType' object has no attribute 'find_all'"
     ]
    }
   ],
   "source": [
    "row_headers = []\n",
    "for x in tableHead.find_all(\"tr\"):\n",
    "    for y in x.find_all(\"th\"):\n",
    "        row_headers.append(y.text)\n",
    "row_headers"
   ]
  },
  {
   "cell_type": "code",
   "execution_count": null,
   "id": "ce293ef8-f79c-4742-9a7b-0c27335e6fb6",
   "metadata": {},
   "outputs": [],
   "source": [
    "tableBody = soup.tbody\n",
    "tableBody"
   ]
  },
  {
   "cell_type": "code",
   "execution_count": null,
   "id": "25d9e9ed-2052-4f98-ab7b-ed86130ba0cb",
   "metadata": {},
   "outputs": [],
   "source": [
    "tableValues = []\n",
    "for x in tableBody.find_all(\"tr\")[1:]:\n",
    "    td_tags = x.find_all(\"td\")\n",
    "    td_val = [y.text for y in td_tags]\n",
    "    tableValues.append(td_val)\n",
    "tableValues"
   ]
  },
  {
   "cell_type": "code",
   "execution_count": null,
   "id": "1414b983-1430-4751-8c5b-9ed3c8711e6b",
   "metadata": {},
   "outputs": [],
   "source": [
    "df = pd.DataFrame(tableValues,columns=row_headers)\n",
    "df"
   ]
  },
  {
   "cell_type": "code",
   "execution_count": null,
   "id": "9049393e-5165-4b04-af26-4252bfaf6edb",
   "metadata": {},
   "outputs": [],
   "source": []
  }
 ],
 "metadata": {
  "kernelspec": {
   "display_name": "Python [conda env:web_scraping]",
   "language": "python",
   "name": "conda-env-web_scraping-py"
  },
  "language_info": {
   "codemirror_mode": {
    "name": "ipython",
    "version": 3
   },
   "file_extension": ".py",
   "mimetype": "text/x-python",
   "name": "python",
   "nbconvert_exporter": "python",
   "pygments_lexer": "ipython3",
   "version": "3.9.15"
  }
 },
 "nbformat": 4,
 "nbformat_minor": 5
}
